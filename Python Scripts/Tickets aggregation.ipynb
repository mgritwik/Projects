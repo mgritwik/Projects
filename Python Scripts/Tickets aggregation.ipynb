{
 "cells": [
  {
   "cell_type": "code",
   "execution_count": 1,
   "metadata": {},
   "outputs": [],
   "source": [
    "import pandas as pd"
   ]
  },
  {
   "cell_type": "code",
   "execution_count": 2,
   "metadata": {},
   "outputs": [],
   "source": [
    "cols = ['Ticket ID','Status', 'Priority', 'Source', 'Type', 'Agent', 'Group', 'Created time', 'Due by Time', 'Resolved time', 'Closed time',\n",
    "        'Initial response time', 'First response time (in hrs)', 'Resolution time (in hrs)', 'Agent interactions', \n",
    "        'Customer interactions', 'Resolution status', 'First response status', 'Tags', 'FCR', 'Issue Category', \n",
    "        'Sub Category', 'Issue Details', 'Escalated', 'Multiple Case Scenario', 'Courier Company', 'LOPS Actions', \n",
    "        'LOPS Sub Category', 'Actions', 'FOPS Action', 'Tech Support Actions', 'Company ID', 'Account tier', 'Account Manager']"
   ]
  },
  {
   "cell_type": "code",
   "execution_count": 3,
   "metadata": {},
   "outputs": [],
   "source": [
    "# df_oct=pd.read_excel(\"Oct-24-11-20.xlsx\",usecols=cols)\n",
    "df_nov=pd.read_excel(\"Nov-24-11-20...xlsx\",usecols=cols)\n",
    "# df_sep=pd.read_excel(\"Sep-21-11-20...xlsx\",usecols=cols)\n",
    "# df_aug=pd.read_excel(\"Aug-21-11-20...xlsx\",usecols=cols)\n",
    "# df_jul=pd.read_excel(\"July-20-11-20...xlsx\",usecols=cols)\n",
    "# df_jun=pd.read_excel(\"June-24-11-20...xlsx\",usecols=cols)"
   ]
  },
  {
   "cell_type": "code",
   "execution_count": 4,
   "metadata": {},
   "outputs": [],
   "source": [
    "# df_sep['month']='September'\n",
    "df_nov['month']='November'\n",
    "# df_oct['month']='October'\n",
    "# df_aug['month']='August'\n",
    "# df_jul['month']='July'\n",
    "# df_jun['month']='June'\n",
    "# df_all = pd.concat([df_nov,df_oct,df_sep,df_aug,df_jul,df_jun], axis = 0)\n",
    "df_all=df_nov"
   ]
  },
  {
   "cell_type": "code",
   "execution_count": 5,
   "metadata": {},
   "outputs": [],
   "source": [
    "df_all['First response time (in hrs)']=df_all['First response time (in hrs)'].astype(str)\n",
    "df_all['First response time_temp']=pd.to_datetime(df_all['First response time (in hrs)']).dt.round('30min')\n",
    "df_all['First response time_temp_hours']=df_all['First response time_temp'].dt.hour\n",
    "df_all['First response time_temp_minutes']=df_all['First response time_temp'].dt.minute\n",
    "df_all['First response time hours']=df_all['First response time_temp_hours']+(df_all['First response time_temp_minutes']/60)\n",
    "# df_all['First response time hour'] = pd.to_datetime(df_all['First response time (in hrs)']).dt.round('H').dt.hour\n",
    "df_all['Resolution time (in hrs)']=df_all['Resolution time (in hrs)'].astype(str)\n",
    "df_all['Resolution time_temp']=pd.to_datetime(df_all['Resolution time (in hrs)']).dt.round('30min')\n",
    "df_all['Resolution time_temp_hours']=df_all['Resolution time_temp'].dt.hour\n",
    "df_all['Resolution time_temp_minutes']=df_all['Resolution time_temp'].dt.minute\n",
    "df_all['Resolution time hours']=df_all['Resolution time_temp_hours']+(df_all['Resolution time_temp_minutes']/60)\n",
    "# df_all['Resolution time hour'] = pd.to_datetime(df_all['Resolution time (in hrs)']).dt.round('H').dt.hour\n",
    "df_all.drop(['Resolution time_temp',\n",
    " 'Resolution time_temp_hours',\n",
    " 'Resolution time_temp_minutes',\n",
    " 'First response time_temp',\n",
    " 'First response time_temp_hours',\n",
    " 'First response time_temp_minutes'], axis = 1,inplace=True) "
   ]
  },
  {
   "cell_type": "code",
   "execution_count": 6,
   "metadata": {},
   "outputs": [],
   "source": [
    "# df_pivot = df_all.groupby(['Company ID','Account tier','month','Multiple Case Scenario',\n",
    "#                           'Priority','Type','Issue Category','Sub Category','Status','Resolution status',\n",
    "#                            'First response status','FCR','Escalated','Source']).agg({ 'Ticket ID':'count',\n",
    "#                                    'First response time hour':'mean',\n",
    "#                                    'Resolution time hour':'mean',\n",
    "#                                     'Agent interactions':'mean',\n",
    "#                                     'Customer interactions':'mean'})\n",
    "# df_pivot=df_pivot.reset_index()\n",
    "# df_pivot.to_excel('Tickets_aggregated_1.xlsx', index=False)"
   ]
  },
  {
   "cell_type": "code",
   "execution_count": 7,
   "metadata": {},
   "outputs": [],
   "source": [
    "# df_3=df_all.groupby(['Company ID','Multiple Case Scenario']).agg({'Ticket ID':'count'})\n",
    "# df_3 = df_3.pivot_table(['Ticket ID'],['Company ID'],'Multiple Case Scenario')\n",
    "# df_3.reset_index(inplace=True)\n",
    "\n",
    "# df_5=df_all.groupby(['Company ID','Issue Category']).agg({'Ticket ID':'count'})\n",
    "# df_5 = df_5.pivot_table(['Ticket ID'],['Company ID'],'Issue Category')\n",
    "# df_5.reset_index(inplace=True)\n",
    "\n",
    "# df_6=df_all.groupby(['Company ID','Sub Category']).agg({'Ticket ID':'count'})\n",
    "# df_6 = df_6.pivot_table(['Ticket ID'],['Company ID'],'Sub Category')\n",
    "# df_6.reset_index(inplace=True)\n",
    "\n",
    "# df_7=df_all.groupby(['Company ID','Status']).agg({'Ticket ID':'count'})\n",
    "# df_7 = df_7.pivot_table(['Ticket ID'],['Company ID'],'Status')\n",
    "# df_7.reset_index(inplace=True)\n",
    "\n",
    "# df_9=df_all.groupby(['Company ID','Escalated']).agg({'Ticket ID':'count'})\n",
    "# df_9 = df_9.pivot_table(['Ticket ID'],['Company ID'],'Escalated')\n",
    "# df_9.reset_index(inplace=True)\n",
    "\n",
    "# df_11=df_all.groupby(['Company ID','Source']).agg({'Ticket ID':'count'})\n",
    "# df_11 = df_11.pivot_table(['Ticket ID'],['Company ID'],'Source')\n",
    "# df_11.reset_index(inplace=True)\n",
    "\n",
    "# # df_oct_pivot=pd.merge(df_1,df_2, on='Company ID')\n",
    "# df_oct_pivot=df_1.merge(df_2,on='Company ID',how='outer').merge(df_3,on='Company ID',how='outer').merge(df_4,on='Company ID',how='outer').merge(df_5,on='Company ID',how='outer').merge(df_6,on='Company ID',how='outer').merge(df_7,on='Company ID',how='outer').merge(df_8,on='Company ID',how='outer').merge(df_9,on='Company ID',how='outer').merge(df_10,on='Company ID',how='outer').merge(df_11,on='Company ID',how='outer')\n",
    "# df_oct_pivot = df_oct_pivot.set_index('Company ID')\n",
    "# df_oct_pivot.to_excel('Tickets_aggregated_Oct.xlsx')\n",
    "\n",
    "# # ['Resolution status','First response status','Multiple Case Scenario','Priority',\n",
    "# #          'Issue Category','Sub Category','Status','Type','Escalated','FCR','Source']"
   ]
  },
  {
   "cell_type": "code",
   "execution_count": 8,
   "metadata": {},
   "outputs": [],
   "source": [
    "#for ML: df_oct_pivot2_final, only key feilds\n",
    "df_pivot = df_all.groupby(['Company ID']).agg({ 'Ticket ID':'count',\n",
    "                                                'First response time hours':'mean',\n",
    "                                                'Resolution time hours':'mean',\n",
    "                                                'Agent interactions':'sum',\n",
    "                                                'Customer interactions':'sum',\n",
    "                                                'Escalated':'count'})\n",
    "df_pivot.reset_index(inplace=True)\n",
    "df_pivot.columns = ['Company ID',\n",
    " '#Tickets',\n",
    " 'First response time hours',\n",
    " 'Resolution time hours',\n",
    " '#Agent interactions',\n",
    " '#Customer interactions',\n",
    " '#Escalated']"
   ]
  },
  {
   "cell_type": "code",
   "execution_count": 9,
   "metadata": {},
   "outputs": [],
   "source": [
    "df_1=df_all.groupby(['Company ID','Resolution status']).agg({'Ticket ID':'count'})\n",
    "df_1 = df_1.pivot_table(['Ticket ID'],['Company ID'],'Resolution status')\n",
    "df_1.reset_index(inplace=True)\n",
    "    \n",
    "df_2=df_all.groupby(['Company ID','First response status']).agg({'Ticket ID':'count'})\n",
    "df_2 = df_2.pivot_table(['Ticket ID'],['Company ID'],'First response status')\n",
    "df_2.reset_index(inplace=True)\n",
    "\n",
    "df_4=df_all.groupby(['Company ID','Priority']).agg({'Ticket ID':'count'})\n",
    "df_4 = df_4.pivot_table(['Ticket ID'],['Company ID'],'Priority')\n",
    "df_4.reset_index(inplace=True)\n",
    "\n",
    "df_8=df_all.groupby(['Company ID','Type']).agg({'Ticket ID':'count'})\n",
    "df_8 = df_8.pivot_table(['Ticket ID'],['Company ID'],'Type')\n",
    "df_8.reset_index(inplace=True)\n",
    "\n",
    "df_10=df_all.groupby(['Company ID','FCR']).agg({'Ticket ID':'count'})\n",
    "df_10 = df_10.pivot_table(['Ticket ID'],['Company ID'],'FCR')\n",
    "df_10.reset_index(inplace=True)"
   ]
  },
  {
   "cell_type": "code",
   "execution_count": 10,
   "metadata": {},
   "outputs": [],
   "source": [
    "cols3=['#ResolutionSLA Violated',\n",
    " '#ResolutionWithin SLA',\n",
    " '#FirstResponseSLA Violated',\n",
    " '#FirstResponseWithin SLA',\n",
    " '#PriorityHigh',\n",
    " '#PriorityLow',\n",
    "'#PriorityMedium',\n",
    " '#PriorityUrgent',\n",
    " '#TypeComplaint',\n",
    " '#TypeQuery',\n",
    " '#TypeRequest',\n",
    " '#TypeService Task',\n",
    " '#FCRNo',\n",
    " '#FCRYes']"
   ]
  },
  {
   "cell_type": "code",
   "execution_count": 11,
   "metadata": {},
   "outputs": [
    {
     "name": "stderr",
     "output_type": "stream",
     "text": [
      "C:\\Users\\abc\\anaconda3\\lib\\site-packages\\pandas\\core\\reshape\\merge.py:618: UserWarning: merging between different levels can give an unintended result (1 levels on the left, 2 on the right)\n",
      "  warnings.warn(msg, UserWarning)\n",
      "C:\\Users\\abc\\anaconda3\\lib\\site-packages\\pandas\\core\\generic.py:3936: PerformanceWarning: dropping on a non-lexsorted multi-index without a level parameter may impact performance.\n",
      "  obj = obj._drop_axis(labels, axis, level=level, errors=errors)\n",
      "<ipython-input-11-eafb779910bf>:41: SettingWithCopyWarning: \n",
      "A value is trying to be set on a copy of a slice from a DataFrame.\n",
      "Try using .loc[row_indexer,col_indexer] = value instead\n",
      "\n",
      "See the caveats in the documentation: https://pandas.pydata.org/pandas-docs/stable/user_guide/indexing.html#returning-a-view-versus-a-copy\n",
      "  df_oct_pivot2_final['tier']=\"\"\n"
     ]
    }
   ],
   "source": [
    "df_oct_pivot2=df_pivot.merge(df_1,on='Company ID',how='outer').merge(df_2,on='Company ID',how='outer').merge(df_4,on='Company ID',how='outer').merge(df_8,on='Company ID',how='outer').merge(df_10,on='Company ID',how='outer')\n",
    "# df_oct_pivot2 = df_oct_pivot2.set_index('Company ID')\n",
    "df_oct_pivot2.columns = ['Company ID','#Tickets',\n",
    " 'First response time hours',\n",
    " 'Resolution time hours',\n",
    " '#Agent interactions',\n",
    " '#Customer interactions',\n",
    " '#Escalated',\n",
    " '#ResolutionSLA Violated',\n",
    " '#ResolutionWithin SLA',\n",
    " '#FirstResponseSLA Violated',\n",
    " '#FirstResponseWithin SLA',\n",
    " '#PriorityHigh',\n",
    " '#PriorityLow',\n",
    "'#PriorityMedium',\n",
    " '#PriorityUrgent',\n",
    " '#TypeComplaint',\n",
    " '#TypeQuery',\n",
    " '#TypeRequest',\n",
    " '#TypeService Task',\n",
    " '#FCRNo',\n",
    " '#FCRYes']\n",
    "df_oct_pivot2[cols3] = df_oct_pivot2[cols3].fillna(0)\n",
    "df_oct_pivot2['%Escalated']=round((df_oct_pivot2['#Escalated']*100)/df_oct_pivot2['#Tickets'])\n",
    "df_oct_pivot2['%AgentResponse']=round((df_oct_pivot2['#Agent interactions']*100)/df_oct_pivot2['#Customer interactions'])\n",
    "df_oct_pivot2['%ResolutioneSLA_Violated']=round((df_oct_pivot2['#ResolutionSLA Violated']*100)/df_oct_pivot2['#Tickets'])\n",
    "df_oct_pivot2['%FirstResponseSLA_Violated']=round((df_oct_pivot2['#FirstResponseSLA Violated']*100)/df_oct_pivot2['#Tickets'])\n",
    "df_oct_pivot2['%HigherPriorityTickets']=round(((df_oct_pivot2['#PriorityHigh']+df_oct_pivot2['#PriorityMedium']+df_oct_pivot2['#PriorityUrgent'])*100)/df_oct_pivot2['#Tickets'])\n",
    "df_oct_pivot2['%TypeComplaint']=round((df_oct_pivot2['#TypeComplaint']*100)/df_oct_pivot2['#Tickets'])\n",
    "df_oct_pivot2['%FCRNo']=round((df_oct_pivot2['#FCRNo']*100)/df_oct_pivot2['#Tickets'])\n",
    "df_oct_pivot2_final=df_oct_pivot2[['Company ID','#Tickets',\n",
    " 'First response time hours',\n",
    " 'Resolution time hours',\n",
    " '%Escalated',\n",
    " '%AgentResponse',\n",
    " '%ResolutioneSLA_Violated',\n",
    " '%FirstResponseSLA_Violated',\n",
    " '%HigherPriorityTickets',\n",
    " '%TypeComplaint',\n",
    " '%FCRNo']]\n",
    "df_oct_pivot2_final['tier']=\"\"\n",
    "df_oct_pivot2_final = df_oct_pivot2_final.set_index('Company ID')\n",
    "for i in df_oct_pivot2_final.index:\n",
    "    temp=df_all.loc[df_all['Company ID'] == i]\n",
    "    df_oct_pivot2_final.at[i,'tier']=temp['Account tier'].iloc[0]\n",
    "# df_oct_pivot2_final.to_excel('Tickets_KeyFields_agg_Oct.xlsx')"
   ]
  },
  {
   "cell_type": "code",
   "execution_count": 12,
   "metadata": {},
   "outputs": [],
   "source": [
    "#for churned customers\n",
    "df_shipments=pd.read_excel(\"sr_company_summary_last_12_months.xlsx\",sheet_name=\"shipments\",usecols=['company_id','company_name','tier','month_202011','month_202012'])"
   ]
  },
  {
   "cell_type": "code",
   "execution_count": 13,
   "metadata": {},
   "outputs": [],
   "source": [
    "df_shipments['Nov_Dec_SD%']=''\n",
    "df_shipments['Nov_Dec_SD%']=round((df_shipments['month_202012']-df_shipments['month_202011'])*100/df_shipments['month_202011'])"
   ]
  },
  {
   "cell_type": "code",
   "execution_count": 14,
   "metadata": {},
   "outputs": [],
   "source": [
    "df_shipments['churned']=''\n",
    "for i in df_shipments.index:\n",
    "    if (df_shipments.at[i,'tier'] in ['GOLD','PLATINUM','TITANIUM']):\n",
    "        if(df_shipments.at[i,'Nov_Dec_SD%']<=-50):\n",
    "            df_shipments.at[i,'churned']=1\n",
    "        else:\n",
    "            df_shipments.at[i,'churned']=0\n",
    "    else:\n",
    "         if(df_shipments.at[i,'Nov_Dec_SD%']<=-70):\n",
    "            df_shipments.at[i,'churned']=1\n",
    "         else:\n",
    "            df_shipments.at[i,'churned']=0\n",
    "\n",
    "# df_oct_pivot2_final['churned']=0\n",
    "# df_oct_pivot2_final.reset_index(inplace=True)\n",
    "# df_churned=df_shipments[df_shipments['churned']==1].company_id.tolist()\n",
    "# df_churned.sort()\n",
    "# for i in df_oct_pivot2_final.index:\n",
    "#     if(df_oct_pivot2_final.at[i,'Company ID'] in df_churned):\n",
    "#         df_oct_pivot2_final.at[i,'churned']=1\n",
    "# df_oct_pivot2_final = df_oct_pivot2_final.set_index('Company ID')\n",
    "# df_oct_pivot2_final"
   ]
  },
  {
   "cell_type": "code",
   "execution_count": 15,
   "metadata": {},
   "outputs": [],
   "source": [
    "df_shipments.to_csv(\"November_Churned_sellers.csv\",index=False)"
   ]
  },
  {
   "cell_type": "code",
   "execution_count": 16,
   "metadata": {},
   "outputs": [],
   "source": [
    "# df_oct_pivot2_final.drop('index',axis=1,inplace=True)\n",
    "df_oct_pivot2_final.to_csv('Tickets_KeyFields_agg_Nov.csv')"
   ]
  },
  {
   "cell_type": "code",
   "execution_count": 17,
   "metadata": {},
   "outputs": [],
   "source": [
    "# df_all['churned']=0\n",
    "# df_oct_pivot2_final.reset_index(inplace=True)\n",
    "# for i in df_all.index:\n",
    "#     if(df_all.at[i,'Company ID'] in df_churned):\n",
    "#         df_all.at[i,'churned']=1\n",
    "# df_all.set_index('Company ID',inplace=True)\n",
    "# df_all"
   ]
  },
  {
   "cell_type": "code",
   "execution_count": 18,
   "metadata": {},
   "outputs": [],
   "source": [
    "# df_all.to_csv(\"SepRawDataKeyColumns.csv\")"
   ]
  }
 ],
 "metadata": {
  "kernelspec": {
   "display_name": "Python 3",
   "language": "python",
   "name": "python3"
  },
  "language_info": {
   "codemirror_mode": {
    "name": "ipython",
    "version": 3
   },
   "file_extension": ".py",
   "mimetype": "text/x-python",
   "name": "python",
   "nbconvert_exporter": "python",
   "pygments_lexer": "ipython3",
   "version": "3.8.3"
  }
 },
 "nbformat": 4,
 "nbformat_minor": 4
}

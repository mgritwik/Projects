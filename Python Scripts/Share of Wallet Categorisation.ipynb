{
 "cells": [
  {
   "cell_type": "code",
   "execution_count": 77,
   "metadata": {},
   "outputs": [],
   "source": [
    "import pandas as pd"
   ]
  },
  {
   "cell_type": "code",
   "execution_count": 78,
   "metadata": {},
   "outputs": [],
   "source": [
    "df=pd.read_csv(\"SOW_master_30122020.csv\")"
   ]
  },
  {
   "cell_type": "code",
   "execution_count": 79,
   "metadata": {},
   "outputs": [],
   "source": [
    "for i in df.index:\n",
    "    if df.at[i,'tier']=='PLATINUM' and df.at[i,'CustomFilled']!=1 and df.at[i,'Elligible']==1:\n",
    "        if df.at[i,'SOW_202012_30th']==0 and df.at[i,'Ship_202012_30th']==0:\n",
    "            df.at[i,'CustomFilled']=0\n",
    "            df.at[i,'Suggested CB']=5\n",
    "            df.at[i,'MSR']=500\n",
    "            df.at[i,'Capping']=2500\n",
    "            df.at[i,'CB*MSR']=df.at[i,'Suggested CB']*df.at[i,'MSR']\n",
    "            df.at[i,'Total cashback']=min(df.at[i,'Capping'],df.at[i,'CB*MSR'])\n",
    "        elif df.at[i,'SOW_202012_30th']<50 and df.at[i,'Ship_202012_30th']<500:\n",
    "            df.at[i,'CustomFilled']=0\n",
    "            df.at[i,'Suggested CB']=3\n",
    "            df.at[i,'MSR']=1000\n",
    "            df.at[i,'Capping']=3000\n",
    "            df.at[i,'CB*MSR']=df.at[i,'Suggested CB']*df.at[i,'MSR']\n",
    "            df.at[i,'Total cashback']=min(df.at[i,'Capping'],df.at[i,'CB*MSR'])\n",
    "        elif df.at[i,'SOW_202012_30th']<50 and df.at[i,'Ship_202012_30th']<1000:\n",
    "            df.at[i,'CustomFilled']=0\n",
    "            df.at[i,'Suggested CB']=2\n",
    "            df.at[i,'MSR']=2500\n",
    "            df.at[i,'Capping']=5000\n",
    "            df.at[i,'CB*MSR']=df.at[i,'Suggested CB']*df.at[i,'MSR']\n",
    "            df.at[i,'Total cashback']=min(df.at[i,'Capping'],df.at[i,'CB*MSR'])\n",
    "        elif df.at[i,'SOW_202012_30th']<70 and df.at[i,'Ship_202012_30th']>1000:\n",
    "            df.at[i,'CustomFilled']=1\n",
    "            df.at[i,'Suggested CB']=\"-999999\"\n",
    "            df.at[i,'MSR']=\"-999999\"\n",
    "            df.at[i,'Capping']=\"-999999\"\n",
    "            df.at[i,'Total cashback']=\"-999999\"\n",
    "    elif df.at[i,'tier']=='GOLD' and  df.at[i,'CustomFilled']!=1 and df.at[i,'Elligible']==1:\n",
    "        if df.at[i,'SOW_202012_30th']==0 and df.at[i,'Ship_202012_30th']==0:\n",
    "            df.at[i,'CustomFilled']=0\n",
    "            df.at[i,'Suggested CB']=5\n",
    "            df.at[i,'MSR']=200\n",
    "            df.at[i,'Capping']=1000\n",
    "            df.at[i,'CB*MSR']=df.at[i,'Suggested CB']*df.at[i,'MSR']\n",
    "            df.at[i,'Total cashback']=min(df.at[i,'Capping'],df.at[i,'CB*MSR'])\n",
    "        elif df.at[i,'SOW_202012_30th']<50 and df.at[i,'Ship_202012_30th']<200:\n",
    "            df.at[i,'CustomFilled']=0\n",
    "            df.at[i,'Suggested CB']=3\n",
    "            df.at[i,'MSR']=500\n",
    "            df.at[i,'Capping']=1500\n",
    "            df.at[i,'CB*MSR']=df.at[i,'Suggested CB']*df.at[i,'MSR']\n",
    "            df.at[i,'Total cashback']=min(df.at[i,'Capping'],df.at[i,'CB*MSR'])\n",
    "        elif df.at[i,'SOW_202012_30th']<50 and df.at[i,'Ship_202012_30th']<500:\n",
    "            df.at[i,'CustomFilled']=0\n",
    "            df.at[i,'Suggested CB']=2\n",
    "            df.at[i,'MSR']=1000\n",
    "            df.at[i,'Capping']=2000\n",
    "            df.at[i,'CB*MSR']=df.at[i,'Suggested CB']*df.at[i,'MSR']\n",
    "            df.at[i,'Total cashback']=min(df.at[i,'Capping'],df.at[i,'CB*MSR'])\n",
    "        elif df.at[i,'SOW_202012_30th']<70 and df.at[i,'Ship_202012_30th']>500:\n",
    "            df.at[i,'CustomFilled']=1\n",
    "            df.at[i,'Suggested CB']=\"-999999\"\n",
    "            df.at[i,'MSR']=\"-999999\"\n",
    "            df.at[i,'Capping']=\"-999999\"\n",
    "            df.at[i,'Total cashback']=\"-999999\"\n",
    "    elif (df.at[i,'tier']=='SILVER' or df.at[i,'tier']=='NAM-BRONZE') and  df.at[i,'CustomFilled']!=1 and df.at[i,'Elligible']==1:\n",
    "        if df.at[i,'SOW_202012_30th']==0 and df.at[i,'Ship_202012_30th']==0:\n",
    "            df.at[i,'CustomFilled']=0\n",
    "            df.at[i,'Suggested CB']=5\n",
    "            df.at[i,'MSR']=100\n",
    "            df.at[i,'Capping']=500\n",
    "            df.at[i,'CB*MSR']=df.at[i,'Suggested CB']*df.at[i,'MSR']\n",
    "            df.at[i,'Total cashback']=min(df.at[i,'Capping'],df.at[i,'CB*MSR'])\n",
    "        elif df.at[i,'SOW_202012_30th']<50 and df.at[i,'Ship_202012_30th']<250:\n",
    "            df.at[i,'CustomFilled']=0\n",
    "            df.at[i,'Suggested CB']=3\n",
    "            df.at[i,'MSR']=250\n",
    "            df.at[i,'Capping']=750\n",
    "            df.at[i,'CB*MSR']=df.at[i,'Suggested CB']*df.at[i,'MSR']\n",
    "            df.at[i,'Total cashback']=min(df.at[i,'Capping'],df.at[i,'CB*MSR'])\n",
    "        elif df.at[i,'SOW_202012_30th']<50 and df.at[i,'Ship_202012_30th']<500:\n",
    "            df.at[i,'CustomFilled']=0\n",
    "            df.at[i,'Suggested CB']=2\n",
    "            df.at[i,'MSR']=500\n",
    "            df.at[i,'Capping']=1000\n",
    "            df.at[i,'CB*MSR']=df.at[i,'Suggested CB']*df.at[i,'MSR']\n",
    "            df.at[i,'Total cashback']=min(df.at[i,'Capping'],df.at[i,'CB*MSR'])\n",
    "        elif df.at[i,'SOW_202012_30th']<70 and df.at[i,'Ship_202012_30th']>500:\n",
    "            df.at[i,'CustomFilled']=1\n",
    "            df.at[i,'Suggested CB']=\"-999999\"\n",
    "            df.at[i,'MSR']=\"-999999\"\n",
    "            df.at[i,'Capping']=\"-999999\"\n",
    "            df.at[i,'Total cashback']=\"-999999\""
   ]
  },
  {
   "cell_type": "code",
   "execution_count": 80,
   "metadata": {},
   "outputs": [],
   "source": [
    "df_plat=df[df['tier']=='PLATINUM']\n",
    "df_gold=df[df['tier']=='GOLD']\n",
    "df_silver=df[df['tier']=='SILVER']\n",
    "df_name=df[df['tier']=='NAM-BRONZE']"
   ]
  },
  {
   "cell_type": "code",
   "execution_count": 81,
   "metadata": {},
   "outputs": [],
   "source": [
    "# df.to_csv(\"SOW_final_30122020.csv\",index=False)\n",
    "with pd.ExcelWriter('SOW_final_30122020.xlsx') as writer:\n",
    "    df.to_excel(writer, sheet_name='AllTiers', index=False)\n",
    "    df_plat.to_excel(writer, sheet_name='Platinum', index=False)\n",
    "    df_gold.to_excel(writer, sheet_name='Gold', index=False)\n",
    "    df_silver.to_excel(writer, sheet_name='Silver', index=False)\n",
    "    df_name.to_excel(writer, sheet_name='NAM', index=False)\n",
    "    "
   ]
  }
 ],
 "metadata": {
  "kernelspec": {
   "display_name": "Python 3",
   "language": "python",
   "name": "python3"
  },
  "language_info": {
   "codemirror_mode": {
    "name": "ipython",
    "version": 3
   },
   "file_extension": ".py",
   "mimetype": "text/x-python",
   "name": "python",
   "nbconvert_exporter": "python",
   "pygments_lexer": "ipython3",
   "version": "3.8.3"
  }
 },
 "nbformat": 4,
 "nbformat_minor": 4
}

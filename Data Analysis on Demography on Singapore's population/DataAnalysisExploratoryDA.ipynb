{
 "cells": [
  {
   "cell_type": "code",
   "execution_count": 739,
   "metadata": {},
   "outputs": [],
   "source": [
    "import numpy as np\n",
    "import pandas as pd\n",
    "import matplotlib.pyplot as plt\n",
    "class color:\n",
    "   BOLD = '\\033[1m'\n",
    "   END = '\\033[0m'"
   ]
  },
  {
   "cell_type": "code",
   "execution_count": 740,
   "metadata": {},
   "outputs": [
    {
     "data": {
      "text/html": [
       "<div>\n",
       "<style scoped>\n",
       "    .dataframe tbody tr th:only-of-type {\n",
       "        vertical-align: middle;\n",
       "    }\n",
       "\n",
       "    .dataframe tbody tr th {\n",
       "        vertical-align: top;\n",
       "    }\n",
       "\n",
       "    .dataframe thead th {\n",
       "        text-align: right;\n",
       "    }\n",
       "</style>\n",
       "<table border=\"1\" class=\"dataframe\">\n",
       "  <thead>\n",
       "    <tr style=\"text-align: right;\">\n",
       "      <th></th>\n",
       "      <th>year</th>\n",
       "      <th>level_1</th>\n",
       "      <th>level_2</th>\n",
       "      <th>value</th>\n",
       "    </tr>\n",
       "  </thead>\n",
       "  <tbody>\n",
       "    <tr>\n",
       "      <td>0</td>\n",
       "      <td>1957</td>\n",
       "      <td>Total Residents</td>\n",
       "      <td>0  -  4 Years</td>\n",
       "      <td>264727</td>\n",
       "    </tr>\n",
       "    <tr>\n",
       "      <td>1</td>\n",
       "      <td>1957</td>\n",
       "      <td>Total Residents</td>\n",
       "      <td>5  -  9 Years</td>\n",
       "      <td>218097</td>\n",
       "    </tr>\n",
       "    <tr>\n",
       "      <td>2</td>\n",
       "      <td>1957</td>\n",
       "      <td>Total Residents</td>\n",
       "      <td>10 - 14 Years</td>\n",
       "      <td>136280</td>\n",
       "    </tr>\n",
       "    <tr>\n",
       "      <td>3</td>\n",
       "      <td>1957</td>\n",
       "      <td>Total Residents</td>\n",
       "      <td>15 - 19 Years</td>\n",
       "      <td>135679</td>\n",
       "    </tr>\n",
       "    <tr>\n",
       "      <td>4</td>\n",
       "      <td>1957</td>\n",
       "      <td>Total Residents</td>\n",
       "      <td>20 - 24 Years</td>\n",
       "      <td>119266</td>\n",
       "    </tr>\n",
       "  </tbody>\n",
       "</table>\n",
       "</div>"
      ],
      "text/plain": [
       "   year          level_1        level_2   value\n",
       "0  1957  Total Residents  0  -  4 Years  264727\n",
       "1  1957  Total Residents  5  -  9 Years  218097\n",
       "2  1957  Total Residents  10 - 14 Years  136280\n",
       "3  1957  Total Residents  15 - 19 Years  135679\n",
       "4  1957  Total Residents  20 - 24 Years  119266"
      ]
     },
     "execution_count": 740,
     "metadata": {},
     "output_type": "execute_result"
    }
   ],
   "source": [
    "#Read data and glimpse\n",
    "\n",
    "df=pd.read_csv(\"OneDrive - SAP SE\\Desktop\\geoiq\\singapore-residents-by-age-group-ethnic-group-and-sex-end-june-annual.csv\")\n",
    "df.head()"
   ]
  },
  {
   "cell_type": "code",
   "execution_count": 741,
   "metadata": {},
   "outputs": [
    {
     "name": "stdout",
     "output_type": "stream",
     "text": [
      "There are no null values.\n"
     ]
    }
   ],
   "source": [
    "#Check to see if there are any null values, and if there are view the columns containing them\n",
    "if(df.isnull().values.any()):\n",
    "    print(\"There are null values in the columns: \", df.columns[df.isna().any()].to_list())\n",
    "else:\n",
    "    print(\"There are no null values.\")"
   ]
  },
  {
   "cell_type": "code",
   "execution_count": 742,
   "metadata": {},
   "outputs": [
    {
     "name": "stdout",
     "output_type": "stream",
     "text": [
      "<class 'pandas.core.frame.DataFrame'>\n",
      "RangeIndex: 20460 entries, 0 to 20459\n",
      "Data columns (total 4 columns):\n",
      "year       20460 non-null int64\n",
      "level_1    20460 non-null object\n",
      "level_2    20460 non-null object\n",
      "value      20460 non-null object\n",
      "dtypes: int64(1), object(3)\n",
      "memory usage: 639.5+ KB\n"
     ]
    },
    {
     "data": {
      "text/plain": [
       "year        int64\n",
       "level_1    object\n",
       "level_2    object\n",
       "value      object\n",
       "dtype: object"
      ]
     },
     "execution_count": 742,
     "metadata": {},
     "output_type": "execute_result"
    }
   ],
   "source": [
    "#To check if there are any erroneous records\n",
    "\n",
    "df.info()\n",
    "df.dtypes"
   ]
  },
  {
   "cell_type": "code",
   "execution_count": 743,
   "metadata": {},
   "outputs": [],
   "source": [
    "#To check why type of value is object\n",
    "\n",
    "#df['value']=df['value'].astype('int')            confirm the presence of string na\n",
    "df['value'].value_counts()                        #We see that NA is the reason.\n",
    "df['value']=df['value'].replace('na',0)           #Replacing NA by 0, assuming NA (Not available) means none exist that category\n",
    "df['value']=df['value'].astype('int')"
   ]
  },
  {
   "cell_type": "code",
   "execution_count": 744,
   "metadata": {},
   "outputs": [],
   "source": [
    "#Data preparation: Get the Gender and Ethinicity as seperate columns\n",
    "\n",
    "df['Gender']=\"\"\n",
    "df['Ethnicity']=\"\"\n",
    "df.dtypes\n",
    "for i in df.index:\n",
    "    if(' Male' in df.iloc[i]['level_1']):\n",
    "        df.at[i,'Gender'] = 'Male'\n",
    "    elif('Female' in df.iloc[i]['level_1']):\n",
    "        df.at[i,'Gender'] = 'Female'\n",
    "        \n",
    "    if('Malays' in df.iloc[i]['level_1']):\n",
    "        df.at[i,'Ethnicity'] = 'Malays'\n",
    "    elif('Chinese' in df.iloc[i]['level_1']):\n",
    "        df.at[i,'Ethnicity'] = 'Chinese'\n",
    "    elif('Indians' in df.iloc[i]['level_1']):\n",
    "        df.at[i,'Ethnicity'] = 'Indians'\n",
    "    elif('Other' in df.iloc[i]['level_1']):\n",
    "        df.at[i,'Ethnicity'] = 'Other'\n",
    "        \n",
    "#Fill the Gender and Ethnicity values with more meaningful name\n",
    "df[['Gender','Ethnicity']]=df[['Gender','Ethnicity']].replace('','All')"
   ]
  },
  {
   "cell_type": "code",
   "execution_count": 745,
   "metadata": {},
   "outputs": [
    {
     "name": "stdout",
     "output_type": "stream",
     "text": [
      "Largest ethnicity in Singapore is:  ['Chinese']\n"
     ]
    }
   ],
   "source": [
    "#Largest ethnic group in Singapore\n",
    "\n",
    "#Fitering out the duplicates rows in gender, since ethnicity is independent of any gender\n",
    "df1=df[df['Gender']=='All']\n",
    "\n",
    "#Grouping by Ethnicity and year\n",
    "ethnic_ = df1.groupby(['year','Ethnicity'])['value'].sum()\n",
    "ethnic_ = ethnic_.reset_index()\n",
    "\n",
    "#Removing the rows with All ethnic groups as they are useless to find out a specific Ethnic group\n",
    "ethnic_filtered = ethnic_[ethnic_['Ethnicity'] != 'All']\n",
    "ethnic_filtered_top=ethnic_filtered.sort_values('value', ascending=False).drop_duplicates(['year']).sort_values('year') #To get the dominant Ethinc group each year\n",
    "\n",
    "#Since there Chinese is the largest ethnicity each year\n",
    "print(\"Largest ethnicity in Singapore is: \", ethnic_filtered_top.Ethnicity.unique())"
   ]
  },
  {
   "cell_type": "code",
   "execution_count": 746,
   "metadata": {},
   "outputs": [
    {
     "name": "stdout",
     "output_type": "stream",
     "text": [
      "Average population growth of Chinese ethinicty over the years is:  2.077252252207557  %\n"
     ]
    }
   ],
   "source": [
    "# Calculate average population growth of Chinese ethinicty over the years\n",
    "# Formula = ((Sum of (j-i)/i) * 100 )/n-1     where i and j are values for consecutive years\n",
    "\n",
    "avg_growth=0\n",
    "for i, j in zip(ethnic_filtered_top['value'], ethnic_filtered_top['value'][1:]):\n",
    "    # Calculate the average to i (current year) to j (next year)\n",
    "    avg_growth+=(j-i)/i\n",
    "avg_growth=(avg_growth*100)/(ethnic_filtered_top.shape[0]-1)\n",
    "print(\"Average population growth of Chinese ethinicty over the years is: \",avg_growth, ' %')"
   ]
  },
  {
   "cell_type": "code",
   "execution_count": 747,
   "metadata": {},
   "outputs": [
    {
     "name": "stdout",
     "output_type": "stream",
     "text": [
      "Average proportion of the total population Chinese ethinicty over the years is:  76.48018740818709  %\n",
      "\n",
      "Yearwise proportion of the total population of Chinese ethinicty:  {1957: 74.7896678675626, 1958: 75.16748548459134, 1959: 75.4181418630204, 1960: 75.57831538054035, 1961: 75.65058937418142, 1962: 75.72503874252823, 1963: 75.86281276962899, 1964: 75.92495270128232, 1965: 75.91405568945183, 1966: 75.82933653077538, 1967: 75.61582361836008, 1968: 75.64863571086644, 1969: 75.69032136462162, 1970: 77.1974830928791, 1971: 75.90377820059798, 1972: 76.01207386363636, 1973: 76.11050685229498, 1974: 76.18295182781004, 1975: 76.26377323576415, 1976: 76.31077611198542, 1977: 76.4144401386906, 1978: 76.43840025750382, 1979: 76.47922536608596, 1980: 78.76295724155057, 1981: 78.57024962585481, 1982: 78.51734491800651, 1983: 78.43067215746706, 1984: 78.341865585898, 1985: 78.2518628291876, 1986: 78.16139712807733, 1987: 78.04450908738484, 1988: 77.95948305142788, 1989: 77.90582129865007, 1990: 78.15466066382614, 1991: 78.0813047505083, 1992: 77.94428317727876, 1993: 77.8301652313676, 1994: 77.70253119724212, 1995: 77.59016994353539, 1996: 77.46563319870177, 1997: 77.27675637398889, 1998: 77.08686539122415, 1999: 76.92699984454445, 2000: 76.82247002796758, 2001: 76.75961014027266, 2002: 76.57108387067777, 2003: 76.67062707410363, 2004: 76.4539804368411, 2005: 76.06651964652964, 2006: 75.6894454790772, 2007: 75.3637628990574, 2008: 75.11982889262895, 2009: 74.63283150438775, 2010: 74.62502467478686, 2011: 74.75885920965558, 2012: 74.8957595251496, 2013: 75.02321635396154, 2014: 75.16746215792853, 2015: 75.31096575185221, 2016: 75.43775552081047, 2017: 75.57746572283546, 2018: 75.69083167869323}\n"
     ]
    }
   ],
   "source": [
    "#proportion of the total population Chinese constitute.\n",
    "\n",
    "ethnic_filtered_all=ethnic_filtered.groupby('year')['value'].sum()   #Total population by year for all ethnicity\n",
    "avg=0\n",
    "Yearwise_Proportion={}\n",
    "for i,j,k in zip(ethnic_filtered_top['value'],ethnic_filtered_all,ethnic_filtered_top['year']):\n",
    "    Yearwise_Proportion[k]=(i*100)/j\n",
    "    avg+=Yearwise_Proportion[k]\n",
    "    \n",
    "print(\"Average proportion of the total population Chinese ethinicty over the years is: \",avg/ethnic_filtered_all.shape[0], ' %')\n",
    "print(\"\\nYearwise proportion of the total population of Chinese ethinicty: \", Yearwise_Proportion)"
   ]
  },
  {
   "cell_type": "code",
   "execution_count": 748,
   "metadata": {},
   "outputs": [
    {
     "name": "stdout",
     "output_type": "stream",
     "text": [
      "Largest age group over each year is: \n",
      "       year          level_2   value\n",
      "0     1957    0  -  4 Years  264727\n",
      "22    1958    0  -  4 Years  277800\n",
      "44    1959    0  -  4 Years  288800\n",
      "66    1960    0  -  4 Years  297000\n",
      "88    1961    0  -  4 Years  303700\n",
      "...    ...              ...     ...\n",
      "1268  2014  65 Years & Over  431601\n",
      "1290  2015  65 Years & Over  459715\n",
      "1312  2016  65 Years & Over  487570\n",
      "1334  2017  65 Years & Over  516692\n",
      "1356  2018  65 Years & Over  547854\n",
      "\n",
      "[62 rows x 3 columns]\n",
      "Largest age group in Singapore over following years were: \n",
      " ['0  -  4 Years' '5  -  9 Years' '10 - 14 Years' '15 - 19 Years'\n",
      " '20 - 24 Years' '25 - 29 Years' '30 - 34 Years' '35 - 39 Years'\n",
      " '40 - 44 Years' '45 - 49 Years' '65 Years & Over']\n"
     ]
    }
   ],
   "source": [
    "#Largest age group in singapore\n",
    "\n",
    "#Using df1: Since Age-group is independent of any gender,  Fitering out the duplicate rows in gender and Ethnicity \n",
    "df2=df1[df1['Ethnicity']=='All']\n",
    "\n",
    "#Grouping by Agegroup and year\n",
    "age_ = df2.groupby(['year','level_2'])['value'].sum()\n",
    "age_ = age_.reset_index()\n",
    "\n",
    "#Finding the largest age group over each year\n",
    "age_filtered_top=age_.sort_values('value', ascending=False).drop_duplicates(['year']).sort_values('year')\n",
    "print(\"Largest age group over each year is: \\n\", age_filtered_top)\n",
    "\n",
    "#Since there Chinese is the largest ethnicity each year\n",
    "print(\"Largest age group in Singapore over following years were: \\n\", age_filtered_top.level_2.unique())"
   ]
  },
  {
   "cell_type": "code",
   "execution_count": 749,
   "metadata": {},
   "outputs": [
    {
     "name": "stdout",
     "output_type": "stream",
     "text": [
      "Average population growth of 65 & over age group's population over the years is:  4.834486727316471  %\n"
     ]
    }
   ],
   "source": [
    "# Calculate average population growth of the latest (year 2018) large age group : 65 years & over\n",
    "# Formula = ((Sum of (j-i)/i) * 100 )/n-1     where i and j are values for consecutive years\n",
    "\n",
    "age_65plus = age_[age_['level_2']=='65 Years & Over']\n",
    "avg_growth2=0\n",
    "for i, j in zip(age_65plus['value'], age_65plus['value'][1:]):\n",
    "    # Calculate the average to i (current year) to j (next year)\n",
    "    avg_growth2+=(j-i)/i\n",
    "avg_growth2=(avg_growth2*100)/(age_65plus.shape[0]-1)\n",
    "print(\"Average population growth of 65 & over age group's population over the years is: \",avg_growth2, ' %')"
   ]
  },
  {
   "cell_type": "code",
   "execution_count": 750,
   "metadata": {},
   "outputs": [
    {
     "name": "stdout",
     "output_type": "stream",
     "text": [
      "Average proportion of the total population 65 years & over age group over the years is:  5.234564248036611  %\n",
      "\n",
      "Yearwise proportion of the total population of 65 years & over age group:  {1957: 2.067696576294948, 1958: 2.1706924315619966, 1959: 2.199765851253928, 1960: 2.226973098164974, 1961: 2.228348265563979, 1962: 2.3107836570663096, 1963: 2.3819882532086143, 1964: 2.4214486303184444, 1965: 2.4757080835228447, 1966: 2.588377480108772, 1967: 2.6867434307646887, 1968: 2.787843648837996, 1969: 2.876842605801236, 1970: 3.1937120264851497, 1971: 3.3705295893167473, 1972: 3.536055214448976, 1973: 3.659447348767737, 1974: 3.825749406944145, 1975: 3.8868357334012997, 1976: 4.050039747290908, 1977: 4.166666666666667, 1978: 4.305753201870298, 1979: 4.403802189868848, 1980: 4.4759503591900875, 1981: 4.6281278407731685, 1982: 4.716192677190963, 1983: 4.8104311661694314, 1984: 4.907707718874297, 1985: 5.021124315504811, 1986: 5.128356372123338, 1987: 5.255125978188851, 1988: 5.363060676192146, 1989: 5.439910182093278, 1990: 5.319338196050524, 1991: 5.360280500456423, 1992: 5.441449402899821, 1993: 5.534434112458581, 1994: 5.630866630135815, 1995: 5.7229081315979915, 1996: 5.791796515308677, 1997: 5.869069186043583, 1998: 5.957132189142279, 1999: 6.071850904485248, 2000: 6.231204112611663, 2001: 6.326916799559991, 2002: 6.385486236268384, 2003: 6.360773685464067, 2004: 6.629163195979316, 2005: 6.857521555639625, 2006: 7.072450830765686, 2007: 7.189986449925073, 2008: 7.278533017997077, 2009: 7.3866865475543735, 2010: 7.4529295499306, 2011: 7.673555592886046, 2012: 8.108516151994738, 2013: 8.527142570099498, 2014: 8.947648293555158, 2015: 9.367024179052049, 2016: 9.762662207122137, 2017: 10.151686263044931, 2018: 10.566179946410562}\n"
     ]
    }
   ],
   "source": [
    "#proportion of the total population 65 years & over constitute.\n",
    "\n",
    "age_filtered_all=age_.groupby('year')['value'].sum()   #Total population by year across all age groups\n",
    "avg=0\n",
    "Yearwise_AgeProportion={}\n",
    "for i,j,k in zip(age_65plus['value'],age_filtered_all,age_65plus['year']):\n",
    "    Yearwise_AgeProportion[k]=(i*100)/j\n",
    "    avg+=Yearwise_AgeProportion[k]\n",
    "    \n",
    "print(\"Average proportion of the total population 65 years & over age group over the years is: \",avg/age_filtered_all.shape[0], ' %')\n",
    "print(\"\\nYearwise proportion of the total population of 65 years & over age group: \", Yearwise_AgeProportion)"
   ]
  },
  {
   "cell_type": "code",
   "execution_count": 751,
   "metadata": {},
   "outputs": [
    {
     "name": "stdout",
     "output_type": "stream",
     "text": [
      "Average Growth rate for each Ethnicity over the years is: \n",
      " [('Other', 3.0958090029080543), ('Chinese', 2.077252252207557), ('Indians', 2.045523844987338), ('Malays', 1.9018624811842262)]\n",
      "\u001b[1m\n",
      " Hence Other Ethnicity has highest growth rate and Malays have least growth rate\n",
      "\n",
      "\u001b[0m\n",
      "Average Growth rate for each Ethnicity over the years is: \n",
      " [('70 Years & Over', 5.192469598048392), ('65 Years & Over', 4.834486727316471), ('65 - 69 Years', 4.449244885436874), ('60 - 64 Years', 4.096601538724642), ('55 - 59 Years', 3.546481579137944), ('50 - 54 Years', 3.028141101155211), ('45 - 49 Years', 2.5972480822075594), ('40 - 44 Years', 2.3565786137285682), ('35 - 39 Years', 2.2375449542307377), ('30 - 34 Years', 1.9468449458647303), ('25 - 29 Years', 1.6581357498276144), ('20 - 24 Years', 1.3453074791318238), ('15 - 19 Years', 0.9312642495490828), ('10 - 14 Years', 0.7643436830837104), ('5  -  9 Years', -0.11038479325065506), ('75 Years & Over', -0.11754742051402889), ('85 Years & Over', -0.5015792790543715), ('0  -  4 Years', -0.5388124910016644), ('70 - 74 Years', -0.8714727938098075), ('80 - 84 Years', -1.2879602828955385), ('80 Years & Over', -2.61055380286564), ('75 - 79 Years', -3.1210281544191294)]\n",
      "\u001b[1m\n",
      " Hence \"70 & over\" has highest growth rate and \"75 to 79\" has the most decreasing rate \n",
      "\n",
      "\u001b[0m\n",
      "Average Growth rate for each Gender over the years is: \n",
      " [('Female', 2.2046561219642276), ('Male', 1.9074696725469507)]\n",
      "\u001b[1m\n",
      " Hence Females have a higher growth rate as compared to Male\n",
      "\n",
      "\u001b[0m\n"
     ]
    }
   ],
   "source": [
    "#Trends on growth rate\n",
    "\n",
    "#Ethnicity trends.\n",
    "Dict_Ethnicity={}\n",
    "for each in ethnic_filtered.Ethnicity.unique():\n",
    "    df_eth=ethnic_filtered[ethnic_filtered['Ethnicity']==each]    #loop over each Ehnicity\n",
    "    avg_growth_x=0\n",
    "    for i, j in zip(df_eth['value'], df_eth['value'][1:]):\n",
    "        # Calculate the average to i (current year) to j (next year)\n",
    "        avg_growth_x+=(j-i)/i\n",
    "    avg_growth_x=(avg_growth_x*100)/(df_eth.shape[0]-1)\n",
    "    Dict_Ethnicity[each]=avg_growth_x\n",
    "Dict_Ethnicity = sorted(Dict_Ethnicity.items(), key=lambda x: x[1], reverse=True) #Sorting th dictionary \n",
    "print(\"Average Growth rate for each Ethnicity over the years is: \\n\",Dict_Ethnicity)\n",
    "print(color.BOLD + '\\n Hence Other Ethnicity has highest growth rate and Malays have least growth rate\\n\\n' + color.END)\n",
    "\n",
    "\n",
    "\n",
    "#Age groups trends.\n",
    "Dict_age={}\n",
    "\n",
    "for each in age_.level_2.unique():\n",
    "    df_age=age_[age_['level_2']==each]    #loop over each Ehnicity\n",
    "    avg_growth_x=0\n",
    "    for i, j in zip(df_age['value'], df_age['value'][1:]):\n",
    "        # Calculate the average to i (current year) to j (next year)\n",
    "        if i!=0:\n",
    "            avg_growth_x+=(j-i)/i\n",
    "    avg_growth_x=(avg_growth_x*100)/(df_age.shape[0]-1)\n",
    "    Dict_age[each]=avg_growth_x\n",
    "Dict_age = sorted(Dict_age.items(), key=lambda x: x[1], reverse=True) #Sorting th dictionary     \n",
    "print(\"Average Growth rate for each Ethnicity over the years is: \\n\",Dict_age)\n",
    "print(color.BOLD + '\\n Hence \"70 & over\" has highest growth rate and \"75 to 79\" has the most decreasing rate \\n\\n' + color.END)\n",
    "\n",
    "#Gender trends.\n",
    "df3=df[(df['Gender']!='All') & (df['Ethnicity']=='All')]\n",
    "\n",
    "#Grouping by Gender and year\n",
    "gender_ = df3.groupby(['year','Gender'])['value'].sum()\n",
    "gender_ = gender_.reset_index()\n",
    "\n",
    "Dict_gender={}\n",
    "for each in gender_.Gender.unique():\n",
    "    df_gen=gender_[gender_['Gender']==each]    #loop over each Ehnicity\n",
    "    avg_growth_x=0\n",
    "    for i, j in zip(df_gen['value'], df_gen['value'][1:]):\n",
    "        # Calculate the average to i (current year) to j (next year)\n",
    "        avg_growth_x+=(j-i)/i\n",
    "    avg_growth_x=(avg_growth_x*100)/(df_gen.shape[0]-1)\n",
    "    Dict_gender[each]=avg_growth_x\n",
    "Dict_gender = sorted(Dict_gender.items(), key=lambda x: x[1], reverse=True) #Sorting th dictionary \n",
    "print(\"Average Growth rate for each Gender over the years is: \\n\",Dict_gender)\n",
    "print(color.BOLD + '\\n Hence Females have a higher growth rate as compared to Male\\n\\n' + color.END)"
   ]
  },
  {
   "cell_type": "code",
   "execution_count": 752,
   "metadata": {},
   "outputs": [
    {
     "data": {
      "image/png": "[encoded data removed]",
      "text/plain": [
       "<Figure size 432x288 with 1 Axes>"
      ]
     },
     "metadata": {
      "needs_background": "light"
     },
     "output_type": "display_data"
    },
    {
     "name": "stdout",
     "output_type": "stream",
     "text": [
      "\u001b[1mInsight: Clearly we see that number of Elderly people is increasing significantly which has caused their numnber to be much more the numnber of youth by 2017\u001b[0m\n"
     ]
    }
   ],
   "source": [
    "#Plotting graph on population trends: To see the trend amongst youth and elderly in singapore\n",
    "\n",
    "youth_list=['0  -  4 Years', '5  -  9 Years','10 - 14 Years']     #youth: 0 to 15 years\n",
    "elderly_list=['60 - 64 Years', '65 - 69 Years', '65 Years & Over',\n",
    "       '70 - 74 Years', '70 Years & Over', '75 - 79 Years',\n",
    "       '75 Years & Over', '80 - 84 Years', '80 Years & Over',\n",
    "       '85 Years & Over']                                       #elderly: above 60 years\n",
    "youth_=age_[age_.level_2.isin(youth_list)]\n",
    "youth_=youth_.groupby('year')['value'].sum()\n",
    "elderly_=age_[age_.level_2.isin(elderly_list)]\n",
    "elderly_=elderly_.groupby('year')['value'].sum()\n",
    "\n",
    "\n",
    "#filtering values to see the changes every decade\n",
    "youth_list=[]\n",
    "elderly_list=[]\n",
    "years=np.array([1957,1967,1977,1987,1997,2007,2017])\n",
    "i=0\n",
    "while i < len(youth_):\n",
    "    youth_list.append(youth_.iloc[i])\n",
    "    elderly_list.append(elderly_.iloc[i])\n",
    "    i+=10\n",
    "#Plotting a bar graph\n",
    "ax = plt.subplot(111)\n",
    "\n",
    "width = np.array([2,2,2,2,2,2,2]) \n",
    "ax.bar(years, youth_list, width=2, color='g', align='center',label='Youth')\n",
    "ax.bar(years+width, elderly_list, width=2, color='r', align='center',label='Elderly')\n",
    "\n",
    "plt.ylabel('Population')\n",
    "plt.title('Year')\n",
    "plt.legend(loc='best')\n",
    "plt.xticks(years)\n",
    "plt.show()   \n",
    "print(color.BOLD + \"Insight: Clearly we see that number of Elderly people is increasing significantly which has caused their numnber to be much more the numnber of youth by 2017\" + color.END)"
   ]
  },
  {
   "cell_type": "code",
   "execution_count": 753,
   "metadata": {},
   "outputs": [
    {
     "data": {
      "image/png": "[encoded data removed]",
      "text/plain": [
       "<Figure size 432x288 with 1 Axes>"
      ]
     },
     "metadata": {
      "needs_background": "light"
     },
     "output_type": "display_data"
    },
    {
     "name": "stdout",
     "output_type": "stream",
     "text": [
      "\u001b[1mInsight: Till 1987 Growth rate of Male and Female have been Similar, but after 1987 growth rate of Female population has been sligtly higher.\u001b[0m\n"
     ]
    }
   ],
   "source": [
    "#Bonus Question: Do an exploratory analysis on the data and find out interesting insights.\n",
    "\n",
    "#Comparision of Gender growth rate\n",
    "gender_\n",
    "male_list=[]\n",
    "female_list=[]\n",
    "ind=0\n",
    "#filtering values to obtain male and female population every decade\n",
    "while ind<len(gender_):\n",
    "    female_list.append(gender_['value'].iloc[ind])\n",
    "    male_list.append(gender_['value'].iloc[ind+1])\n",
    "    ind+=20\n",
    "ax = plt.subplot(111)\n",
    "\n",
    "width = np.array([2,2,2,2,2,2,2]) \n",
    "ax.bar(years, female_list, width=2, color='m', align='center',label='Female')\n",
    "ax.bar(years+width, male_list, width=2, color='c', align='center',label='Male')\n",
    "\n",
    "plt.ylabel('Population')\n",
    "plt.title('Year')\n",
    "plt.legend(loc='best')\n",
    "plt.xticks(years)\n",
    "plt.show()   \n",
    "print(color.BOLD + \"Insight: Till 1987 Growth rate of Male and Female have been Similar, but after 1987 growth rate of Female population has been sligtly higher.\" + color.END)\n"
   ]
  },
  {
   "cell_type": "code",
   "execution_count": 754,
   "metadata": {},
   "outputs": [
    {
     "data": {
      "image/png": "[encoded data removed]",
      "text/plain": [
       "<Figure size 432x288 with 1 Axes>"
      ]
     },
     "metadata": {
      "needs_background": "light"
     },
     "output_type": "display_data"
    },
    {
     "name": "stdout",
     "output_type": "stream",
     "text": [
      "\u001b[1mInsight: Clearly, Average age of Singapore is increasing, which proves population of Singapore has more elderly than young people\u001b[0m\n"
     ]
    }
   ],
   "source": [
    "#Trend of Average age of Singapore\n",
    "#Replacing the age groups by their median value for accurate approximation\n",
    "age_['level_2']=age_['level_2'].replace({ '0  -  4 Years' : 2, '5  -  9 Years' : 7, '10 - 14 Years' : 12, '15 - 19 Years' : 17,\n",
    "                                         '20 - 24 Years' : 22, '25 - 29 Years': 27, '30 - 34 Years': 32, '35 - 39 Years':37,\n",
    "                                         '40 - 44 Years': 42, '45 - 49 Years': 47, '50 - 54 Years': 52,\n",
    "                                         '55 - 59 Years': 57, '60 - 64 Years': 62, '65 - 69 Years': 67,\n",
    "                                         '65 Years & Over': 70, '70 - 74 Years': 72, '70 Years & Over': 75,\n",
    "                                         '75 - 79 Years': 277, '75 Years & Over': 80,'80 - 84 Years': 82,\n",
    "                                         '80 Years & Over': 85, '85 Years & Over' : 90})\n",
    "age_=age_.rename(columns={\"level_2\": \"average_age\"})\n",
    "\n",
    "#calculating the Weighted average for every decade\n",
    "WeightedAverage_list=[]\n",
    "for each in years:\n",
    "    age_yearly=age_[age_['year']==each]\n",
    "    WeightedAverage_list.append(int((age_yearly[\"average_age\"]*age_yearly[\"value\"]).sum()/age_yearly[\"value\"].sum()))\n",
    "\n",
    "#plot a line graph for observing the trend in average age\n",
    "plt.plot(years, WeightedAverage_list,marker='o')\n",
    "plt.title('Average age in Singapore')\n",
    "plt.xlabel('Year')\n",
    "plt.ylabel('Weighted Average age')\n",
    "for x,y in zip(years,WeightedAverage_list):\n",
    "    label = \"{:}\".format(y)\n",
    "    plt.annotate(label,(x,y),textcoords=\"offset points\", xytext=(-1,5),ha='center')\n",
    "plt.show()\n",
    "print(color.BOLD + \"Insight: Clearly, Average age of Singapore is increasing, which proves population of Singapore has more elderly than young people\" + color.END)\n"
   ]
  }
 ],
 "metadata": {
  "kernelspec": {
   "display_name": "Python 3",
   "language": "python",
   "name": "python3"
  },
  "language_info": {
   "codemirror_mode": {
    "name": "ipython",
    "version": 3
   },
   "file_extension": ".py",
   "mimetype": "text/x-python",
   "name": "python",
   "nbconvert_exporter": "python",
   "pygments_lexer": "ipython3",
   "version": "3.7.4"
  }
 },
 "nbformat": 4,
 "nbformat_minor": 2
}

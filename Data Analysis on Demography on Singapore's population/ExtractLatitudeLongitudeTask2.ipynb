{
 "cells": [
  {
   "cell_type": "code",
   "execution_count": 382,
   "metadata": {},
   "outputs": [],
   "source": [
    "import re                   #import regex library\n",
    "import pandas as pd"
   ]
  },
  {
   "cell_type": "code",
   "execution_count": 383,
   "metadata": {},
   "outputs": [],
   "source": [
    "#Extract the markers and Latitude,Longitude values from the JS file\n",
    "myFile = open('OneDrive - SAP SE\\Desktop\\geoiq\\BMC-ContainmentZones.js').read().replace('\\n', ' ').replace(' ', '')\n",
    "\n",
    "#marker pattern\n",
    "marker_pattern=re.compile(r'\\bvarmarker_.\\w+')\n",
    "markers=re.findall(marker_pattern,myFile)\n",
    "\n",
    "#lat long pattern\n",
    "latlong_pattern=re.compile(r'\\bL.marker[(][[][0-9]*[.][0-9]*[,][0-9]*[.][0-9]*')\n",
    "lat_longs=re.findall(latlong_pattern,myFile)"
   ]
  },
  {
   "cell_type": "code",
   "execution_count": 384,
   "metadata": {},
   "outputs": [],
   "source": [
    "#Extract Markers values into a list\n",
    "pat=re.compile(\"varmarker_(.*)\")\n",
    "#marker_pattern=re.compile(r'\\bvarmarker_.\\w+')\n",
    "ind=0\n",
    "while ind<len(markers):\n",
    "    mark=re.findall(pat,markers[ind])\n",
    "    markers[ind]=mark[0]\n",
    "    ind+=1"
   ]
  },
  {
   "cell_type": "code",
   "execution_count": 385,
   "metadata": {},
   "outputs": [],
   "source": [
    "#Extract Latitude and longitude Markers values into a list\n",
    "latitude=[]\n",
    "longitude=[]\n",
    "ind=0\n",
    "pat=re.compile(\"L.marker\\(\\[(.*)\")\n",
    "pat2=re.compile(\"[0-9]*[.][0-9]*\")\n",
    "while ind<len(lat_longs):\n",
    "    la=re.findall(pat,lat_longs[ind])\n",
    "    lat_long=re.findall(pat2,la[0])\n",
    "    latitude.append(float(lat_long[0]))\n",
    "    longitude.append(float(lat_long[1]))\n",
    "    ind+=1"
   ]
  },
  {
   "cell_type": "code",
   "execution_count": 386,
   "metadata": {},
   "outputs": [
    {
     "data": {
      "text/html": [
       "<div>\n",
       "<style scoped>\n",
       "    .dataframe tbody tr th:only-of-type {\n",
       "        vertical-align: middle;\n",
       "    }\n",
       "\n",
       "    .dataframe tbody tr th {\n",
       "        vertical-align: top;\n",
       "    }\n",
       "\n",
       "    .dataframe thead th {\n",
       "        text-align: right;\n",
       "    }\n",
       "</style>\n",
       "<table border=\"1\" class=\"dataframe\">\n",
       "  <thead>\n",
       "    <tr style=\"text-align: right;\">\n",
       "      <th></th>\n",
       "      <th>Marker ID</th>\n",
       "      <th>Latitude</th>\n",
       "      <th>Longitude</th>\n",
       "    </tr>\n",
       "  </thead>\n",
       "  <tbody>\n",
       "    <tr>\n",
       "      <td>0</td>\n",
       "      <td>9795626cfd584471ab4406d756a00baf</td>\n",
       "      <td>19.041691972000024</td>\n",
       "      <td>72.850524820000032</td>\n",
       "    </tr>\n",
       "    <tr>\n",
       "      <td>1</td>\n",
       "      <td>82a31b114c0243859e73c4f5f1332554</td>\n",
       "      <td>19.047690380000063</td>\n",
       "      <td>72.857871746000058</td>\n",
       "    </tr>\n",
       "    <tr>\n",
       "      <td>2</td>\n",
       "      <td>0e93001008714f1da3c40e3317183810</td>\n",
       "      <td>19.039267403000053</td>\n",
       "      <td>72.854913535000037</td>\n",
       "    </tr>\n",
       "    <tr>\n",
       "      <td>3</td>\n",
       "      <td>a41b90c2ea4a405b8a35811cd094ea68</td>\n",
       "      <td>19.043724822000058</td>\n",
       "      <td>72.850042479000081</td>\n",
       "    </tr>\n",
       "    <tr>\n",
       "      <td>4</td>\n",
       "      <td>3e13bed860e9471d9a1323cffd3b6129</td>\n",
       "      <td>19.017987179000045</td>\n",
       "      <td>72.819800243000032</td>\n",
       "    </tr>\n",
       "    <tr>\n",
       "      <td>5</td>\n",
       "      <td>76c41c20947147dca50aaf65ddc5cd7c</td>\n",
       "      <td>19.005198476000032</td>\n",
       "      <td>72.820536588000039</td>\n",
       "    </tr>\n",
       "    <tr>\n",
       "      <td>6</td>\n",
       "      <td>459cc0f22e0d472e958b85734e704c74</td>\n",
       "      <td>19.001957413000071</td>\n",
       "      <td>72.816948365000030</td>\n",
       "    </tr>\n",
       "    <tr>\n",
       "      <td>7</td>\n",
       "      <td>17a95898101040b283e2d1fc7282e604</td>\n",
       "      <td>19.001709748000053</td>\n",
       "      <td>72.818493992000072</td>\n",
       "    </tr>\n",
       "    <tr>\n",
       "      <td>8</td>\n",
       "      <td>6b15dbe1edd64d989146fb1c417bdf54</td>\n",
       "      <td>19.018673800000045</td>\n",
       "      <td>72.819168508000075</td>\n",
       "    </tr>\n",
       "    <tr>\n",
       "      <td>9</td>\n",
       "      <td>cfa96004f8704b63a249a0037c9bdf18</td>\n",
       "      <td>19.001004932000058</td>\n",
       "      <td>72.817543341000032</td>\n",
       "    </tr>\n",
       "  </tbody>\n",
       "</table>\n",
       "</div>"
      ],
      "text/plain": [
       "                          Marker ID            Latitude           Longitude\n",
       "0  9795626cfd584471ab4406d756a00baf  19.041691972000024  72.850524820000032\n",
       "1  82a31b114c0243859e73c4f5f1332554  19.047690380000063  72.857871746000058\n",
       "2  0e93001008714f1da3c40e3317183810  19.039267403000053  72.854913535000037\n",
       "3  a41b90c2ea4a405b8a35811cd094ea68  19.043724822000058  72.850042479000081\n",
       "4  3e13bed860e9471d9a1323cffd3b6129  19.017987179000045  72.819800243000032\n",
       "5  76c41c20947147dca50aaf65ddc5cd7c  19.005198476000032  72.820536588000039\n",
       "6  459cc0f22e0d472e958b85734e704c74  19.001957413000071  72.816948365000030\n",
       "7  17a95898101040b283e2d1fc7282e604  19.001709748000053  72.818493992000072\n",
       "8  6b15dbe1edd64d989146fb1c417bdf54  19.018673800000045  72.819168508000075\n",
       "9  cfa96004f8704b63a249a0037c9bdf18  19.001004932000058  72.817543341000032"
      ]
     },
     "execution_count": 386,
     "metadata": {},
     "output_type": "execute_result"
    }
   ],
   "source": [
    "#Collate the required dataframe\n",
    "pd.set_option('precision', 15)              #define the precision to avoid loss of precision in Latitude and longitude\n",
    "df = list(zip(markers,latitude,longitude))\n",
    "#import regex library\n",
    "df=pd.DataFrame(df, columns=['Marker ID','Latitude','Longitude'])\n",
    "df.head(10)"
   ]
  }
 ],
 "metadata": {
  "kernelspec": {
   "display_name": "Python 3",
   "language": "python",
   "name": "python3"
  },
  "language_info": {
   "codemirror_mode": {
    "name": "ipython",
    "version": 3
   },
   "file_extension": ".py",
   "mimetype": "text/x-python",
   "name": "python",
   "nbconvert_exporter": "python",
   "pygments_lexer": "ipython3",
   "version": "3.7.4"
  }
 },
 "nbformat": 4,
 "nbformat_minor": 2
}

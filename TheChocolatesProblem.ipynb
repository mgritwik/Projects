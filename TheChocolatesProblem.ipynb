{
 "cells": [
  {
   "cell_type": "code",
   "execution_count": 19,
   "metadata": {},
   "outputs": [
    {
     "name": "stdout",
     "output_type": "stream",
     "text": [
      "Enter the amount: 10000\n",
      "Total number of chocolates obtained are:  14998\n"
     ]
    }
   ],
   "source": [
    "wrappers=rem=0\n",
    "wrappers=input('Enter the amount: ')\n",
    "wrappers=int(wrappers)\n",
    "chocos=wrappers\n",
    "def cal_chocos():\n",
    "    global chocos,wrappers\n",
    "    chocos=chocos+wrappers//3\n",
    "def cal_wrappers():\n",
    "    global chocos,wrappers,rem\n",
    "    while wrappers>2:\n",
    "        cal_chocos()\n",
    "        rem=rem+wrappers%3\n",
    "        wrappers//=3\n",
    "cal_wrappers() #1st iteration to calculate the chocolates and total wrappers obtained\n",
    "wrappers+=rem\n",
    "rem=0\n",
    "cal_wrappers() #2nd iteration to calculate the total\n",
    "print('Total number of chocolates obtained are: ', chocos)"
   ]
  },
  {
   "cell_type": "code",
   "execution_count": null,
   "metadata": {},
   "outputs": [],
   "source": []
  }
 ],
 "metadata": {
  "kernelspec": {
   "display_name": "Python 3",
   "language": "python",
   "name": "python3"
  },
  "language_info": {
   "codemirror_mode": {
    "name": "ipython",
    "version": 3
   },
   "file_extension": ".py",
   "mimetype": "text/x-python",
   "name": "python",
   "nbconvert_exporter": "python",
   "pygments_lexer": "ipython3",
   "version": "3.7.4"
  }
 },
 "nbformat": 4,
 "nbformat_minor": 2
}
